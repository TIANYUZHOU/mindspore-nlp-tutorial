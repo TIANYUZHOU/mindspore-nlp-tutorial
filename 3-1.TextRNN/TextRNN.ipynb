{
 "cells": [
  {
   "cell_type": "code",
   "execution_count": null,
   "id": "conditional-growing",
   "metadata": {},
   "outputs": [],
   "source": [
    "import math\n",
    "import mindspore\n",
    "import numpy as np\n",
    "import mindspore.nn as nn\n",
    "import mindspore.ops as P\n",
    "from mindspore import Tensor, Parameter"
   ]
  },
  {
   "cell_type": "markdown",
   "id": "reliable-event",
   "metadata": {},
   "source": [
    "RNNCell: \n",
    "<center>$h' = \\tanh(W_{ih} x + b_{ih}  +  W_{hh} h + b_{hh})$</center>"
   ]
  },
  {
   "cell_type": "code",
   "execution_count": null,
   "id": "corrected-retreat",
   "metadata": {},
   "outputs": [],
   "source": [
    "class RNNCell(nn.Cell):\n",
    "    \"\"\"\n",
    "    An Elman RNN cell with tanh or ReLU non-linearity.\n",
    "    \n",
    "    Args:\n",
    "        input_size:  The number of expected features in the input 'x'\n",
    "        hidden_size: The number of features in the hidden state 'h'\n",
    "        bias: If 'False', then the layer does not use bias weights b_ih and b_hh. Default: 'True'\n",
    "        nonlinearity: The non-linearity to use. Can be either 'tanh' or 'relu'. Default: 'tanh'\n",
    "    \n",
    "    Inputs:\n",
    "        input: Tensor, (batch, input_size)\n",
    "        hidden: Tensor, (batch, hidden_size)\n",
    "    Outputs:\n",
    "        h: Tensor, (batch, hidden_size)\n",
    "    \"\"\"\n",
    "    nonlinearity_dict = {\n",
    "        'tanh': nn.Tanh(),\n",
    "        'relu': nn.ReLU()\n",
    "    }\n",
    "    def __init__(self, input_size: int, hidden_size: int, bias: bool = True, nonlinearity: str = 'tanh'):\n",
    "        super().__init__()\n",
    "        self.input_size = input_size\n",
    "        self.hidden_size = hidden_size\n",
    "        self.bias = bias\n",
    "        \n",
    "        stdv = 1 / math.sqrt(hidden_size)\n",
    "        self.weight_ih = Parameter(Tensor(np.random.uniform(-stdv, stdv, (input_size, hidden_size)).astype(np.float32)))\n",
    "        self.weight_hh = Parameter(Tensor(np.random.uniform(-stdv, stdv, (hidden_size, hidden_size)).astype(np.float32)))\n",
    "        if bias:\n",
    "            self.bias_ih = Parameter(Tensor(np.random.uniform(-stdv, stdv, (hidden_size)).astype(np.float32)))\n",
    "            self.bias_hh = Parameter(Tensor(np.random.uniform(-stdv, stdv, (hidden_size)).astype(np.float32)))\n",
    "        \n",
    "        self.nonlinearity = self.nonlinearity_dict[nonlinearity]\n",
    "        self.mm = P.MatMul()\n",
    "\n",
    "    def construct(self, input: Tensor, hx: Tensor) -> Tensor:\n",
    "        if self.bias:\n",
    "            i_gates = self.mm(input, self.weight_ih) + self.bias_ih\n",
    "            h_gates = self.mm(hx, self.weight_hh) + self.bias_hh\n",
    "        else:\n",
    "            i_gates = self.mm(input, self.weight_ih)\n",
    "            h_gates = self.mm(hx, self.weight_hh)\n",
    "        h = self.nonlinearity(i_gates + h_gates)\n",
    "        return h"
   ]
  },
  {
   "cell_type": "markdown",
   "id": "liable-worse",
   "metadata": {},
   "source": [
    "RNN: \n",
    "<center>$h_t = \\tanh(W_{ih} x_t + b_{ih} + W_{hh} h_{(t-1)} + b_{hh})$</center>"
   ]
  },
  {
   "cell_type": "code",
   "execution_count": null,
   "id": "fatty-impact",
   "metadata": {},
   "outputs": [],
   "source": [
    "class RNN(nn.Cell):\n",
    "    def __init__(self, \n",
    "                 input_size: int, \n",
    "                 hidden_size: int, \n",
    "                 nonlinearity: str = 'tanh', \n",
    "                 bias: bool = True, \n",
    "                 dropout: float = 0.,\n",
    "                 batch_first: bool = False,\n",
    "                ):\n",
    "        super().__init__()\n",
    "        self.rnn_cell = RNNCell(input_size, hidden_size, bias, nonlinearity)\n",
    "        \n",
    "        self.batch_first = batch_first\n",
    "        self.transpose = P.Transpose()\n",
    "        self.stack = P.Stack()\n",
    "        self.dropout = nn.Dropout(1 - dropout)\n",
    "    def construct(self, input: Tensor, h_0: Tensor):\n",
    "        if self.batch_first:\n",
    "            input = self.transpose(input, (1, 0, 2))\n",
    "        input_shape = input.shape\n",
    "        time_steps = input_shape[0]\n",
    "        h_t = h_0\n",
    "        output = []\n",
    "        for t in range(time_steps):\n",
    "            h_t = self.rnn_cell(input[t], h_t)\n",
    "            output.append(h_t)\n",
    "        output = self.stack(output)\n",
    "        h_t = self.dropout(h_t)\n",
    "        output = self.dropout(output)\n",
    "        return output, h_t        "
   ]
  },
  {
   "cell_type": "markdown",
   "id": "wanted-black",
   "metadata": {},
   "source": [
    "TextRNN Model:"
   ]
  },
  {
   "cell_type": "code",
   "execution_count": null,
   "id": "superb-decrease",
   "metadata": {},
   "outputs": [],
   "source": [
    "def make_batch(sentences, word_dict, n_class):\n",
    "    input_batch = []\n",
    "    target_batch = []\n",
    "\n",
    "    for sen in sentences:\n",
    "        word = sen.split()  # space tokenizer\n",
    "        input = [word_dict[n] for n in word[:-1]]  # create (1~n-1) as input\n",
    "        target = word_dict[word[-1]]  # create (n) as target, We usually call this 'casual language model'\n",
    "\n",
    "        input_batch.append(np.eye(n_class)[input])\n",
    "        target_batch.append(target)\n",
    "\n",
    "    return input_batch, target_batch"
   ]
  },
  {
   "cell_type": "code",
   "execution_count": null,
   "id": "suitable-receiver",
   "metadata": {},
   "outputs": [],
   "source": [
    "class TextRNN(nn.Cell):\n",
    "    def __init__(self, n_class, n_hidden, batch_size):\n",
    "        super(TextRNN, self).__init__()\n",
    "        self.rnn = RNN(input_size=n_class, hidden_size=n_hidden, batch_first=True)\n",
    "        self.W = nn.Dense(n_hidden, n_class, has_bias=False)\n",
    "        self.b = Parameter(Tensor(np.ones([n_class]), mindspore.float32))\n",
    "        \n",
    "        self.h_0 = Tensor(np.zeros((batch_size, n_hidden)).astype(np.float32))\n",
    "        self.transpose = P.Transpose()\n",
    "    def construct(self, X):\n",
    "        outputs, hidden = self.rnn(X, self.h_0)\n",
    "        # outputs : [n_step, batch_size, num_directions(=1) * n_hidden]\n",
    "        # hidden : [num_layers(=1) * num_directions(=1), batch_size, n_hidden]\n",
    "        outputs = outputs[-1] # [batch_size, num_directions(=1) * n_hidden]\n",
    "        model = self.W(outputs)# model : [batch_size, n_class]\n",
    "        \n",
    "        return model"
   ]
  },
  {
   "cell_type": "code",
   "execution_count": null,
   "id": "greenhouse-state",
   "metadata": {},
   "outputs": [],
   "source": [
    "n_step = 2 # number of cells(= number of Step)\n",
    "n_hidden = 5 # number of hidden units in one cell\n",
    "\n",
    "sentences = [\"i like dog\", \"i love coffee\", \"i hate milk\"]\n",
    "\n",
    "word_list = \" \".join(sentences).split()\n",
    "word_list = list(set(word_list))\n",
    "word_dict = {w: i for i, w in enumerate(word_list)}\n",
    "number_dict = {i: w for i, w in enumerate(word_list)}\n",
    "n_class = len(word_dict)\n",
    "batch_size = len(sentences)"
   ]
  },
  {
   "cell_type": "code",
   "execution_count": null,
   "id": "quantitative-superintendent",
   "metadata": {},
   "outputs": [],
   "source": [
    "model = TextRNN(n_class, n_hidden, batch_size)"
   ]
  },
  {
   "cell_type": "code",
   "execution_count": null,
   "id": "enabling-shore",
   "metadata": {},
   "outputs": [],
   "source": [
    "criterion = nn.SoftmaxCrossEntropyWithLogits(sparse=True, reduction='mean')\n",
    "optimizer = nn.Adam(model.trainable_params(), learning_rate=0.001)"
   ]
  },
  {
   "cell_type": "code",
   "execution_count": null,
   "id": "afraid-pharmacology",
   "metadata": {},
   "outputs": [],
   "source": [
    "input_batch, target_batch = make_batch(sentences, word_dict, n_class)\n",
    "input_batch = Tensor(input_batch, mindspore.float32)\n",
    "target_batch = Tensor(target_batch, mindspore.int32)"
   ]
  },
  {
   "cell_type": "code",
   "execution_count": null,
   "id": "banner-backup",
   "metadata": {},
   "outputs": [],
   "source": [
    "from mindspore import context\n",
    "context.set_context(mode=context.GRAPH_MODE, device_target=\"GPU\")\n",
    "\n",
    "net_with_criterion = nn.WithLossCell(model, criterion)\n",
    "train_network = nn.TrainOneStepCell(net_with_criterion, optimizer)\n",
    "train_network.set_train()\n",
    "\n",
    "# Training\n",
    "for epoch in range(5000):\n",
    "    # hidden : [num_layers * num_directions, batch, hidden_size]\n",
    "    loss = train_network(input_batch, target_batch)\n",
    "    if (epoch + 1) % 1000 == 0:\n",
    "        print('Epoch:', '%04d' % (epoch + 1), 'cost =', '{:.6f}'.format(loss.asnumpy()))"
   ]
  },
  {
   "cell_type": "code",
   "execution_count": null,
   "id": "established-solid",
   "metadata": {},
   "outputs": [],
   "source": [
    "# Predict\n",
    "predict = model(input_batch).asnumpy().argmax(1)\n",
    "print([sen.split()[:2] for sen in sentences], '->', [number_dict[n.item()] for n in predict.squeeze()])"
   ]
  },
  {
   "cell_type": "code",
   "execution_count": null,
   "id": "computational-august",
   "metadata": {},
   "outputs": [],
   "source": []
  },
  {
   "cell_type": "code",
   "execution_count": null,
   "id": "incorporated-manufacturer",
   "metadata": {},
   "outputs": [],
   "source": []
  }
 ],
 "metadata": {
  "kernelspec": {
   "display_name": "Python 3",
   "language": "python",
   "name": "python3"
  },
  "language_info": {
   "codemirror_mode": {
    "name": "ipython",
    "version": 3
   },
   "file_extension": ".py",
   "mimetype": "text/x-python",
   "name": "python",
   "nbconvert_exporter": "python",
   "pygments_lexer": "ipython3",
   "version": "3.7.5"
  }
 },
 "nbformat": 4,
 "nbformat_minor": 5
}
