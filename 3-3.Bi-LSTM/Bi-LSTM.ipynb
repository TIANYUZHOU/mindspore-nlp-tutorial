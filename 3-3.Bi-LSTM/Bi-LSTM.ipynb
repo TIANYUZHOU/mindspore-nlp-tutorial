{
 "cells": [
  {
   "cell_type": "code",
   "execution_count": 1,
   "id": "handled-script",
   "metadata": {},
   "outputs": [],
   "source": [
    "import numpy as np\n",
    "import mindspore\n",
    "import mindspore.nn as nn\n",
    "import mindspore.ops as ops\n",
    "from mindspore import Parameter, Tensor"
   ]
  },
  {
   "cell_type": "code",
   "execution_count": 2,
   "id": "worthy-samba",
   "metadata": {},
   "outputs": [],
   "source": [
    "def make_batch(sentence, word_dict, n_class, max_len):\n",
    "    input_batch = []\n",
    "    target_batch = []\n",
    "\n",
    "    words = sentence.split()\n",
    "    for i, word in enumerate(words[:-1]):\n",
    "        input = [word_dict[n] for n in words[:(i + 1)]]\n",
    "        input = input + [0] * (max_len - len(input))\n",
    "        target = word_dict[words[i + 1]]\n",
    "        input_batch.append(np.eye(n_class)[input])\n",
    "        target_batch.append(target)\n",
    "\n",
    "    return input_batch, target_batch"
   ]
  },
  {
   "cell_type": "code",
   "execution_count": 3,
   "id": "religious-portland",
   "metadata": {},
   "outputs": [],
   "source": [
    "class BiLSTM(nn.Cell):\n",
    "    def __init__(self, n_class, n_hidden, batch_size):\n",
    "        super().__init__()\n",
    "        self.lstm = nn.LSTM(input_size=n_class, hidden_size=n_hidden, bidirectional=True)\n",
    "        self.W = nn.Dense(n_hidden * 2, n_class, has_bias=False)\n",
    "        self.b = Parameter(Tensor(np.ones([n_class], dtype=np.float32), mindspore.float32), 'b')\n",
    "\n",
    "    def construct(self, X):\n",
    "        input = X.transpose((1, 0, 2))\n",
    "        output, (_, _) = self.lstm(input)\n",
    "        outputs = output[-1]\n",
    "        model = self.W(outputs) + self.b\n",
    "        \n",
    "        return model"
   ]
  },
  {
   "cell_type": "code",
   "execution_count": 4,
   "id": "imposed-waters",
   "metadata": {},
   "outputs": [],
   "source": [
    "n_hidden = 5 # number of hidden units in one cell\n",
    "\n",
    "sentence = (\n",
    "    'Lorem ipsum dolor sit amet consectetur adipisicing elit '\n",
    "    'sed do eiusmod tempor incididunt ut labore et dolore magna '\n",
    "    'aliqua Ut enim ad minim veniam quis nostrud exercitation'\n",
    ")\n",
    "\n",
    "word_dict = {w: i for i, w in enumerate(list(set(sentence.split())))}\n",
    "number_dict = {i: w for i, w in enumerate(list(set(sentence.split())))}\n",
    "n_class = len(word_dict)\n",
    "max_len = len(sentence.split())\n",
    "vocab_size = len(word_dict)"
   ]
  },
  {
   "cell_type": "code",
   "execution_count": 5,
   "id": "generic-vessel",
   "metadata": {},
   "outputs": [
    {
     "name": "stdout",
     "output_type": "stream",
     "text": [
      "(26, 27, 27) (26,)\n"
     ]
    }
   ],
   "source": [
    "input_batch, target_batch = make_batch(sentence, word_dict, n_class, max_len)\n",
    "# print(input_batch, target_batch)\n",
    "input_batch = Tensor(input_batch, mindspore.float32)\n",
    "target_batch = Tensor(target_batch, mindspore.int32)\n",
    "print(input_batch.shape, target_batch.shape)\n",
    "\n",
    "batch_size = len(input_batch)"
   ]
  },
  {
   "cell_type": "code",
   "execution_count": 6,
   "id": "random-entertainment",
   "metadata": {},
   "outputs": [],
   "source": [
    "model = BiLSTM(n_class, n_hidden, batch_size)"
   ]
  },
  {
   "cell_type": "code",
   "execution_count": 7,
   "id": "southwest-baltimore",
   "metadata": {},
   "outputs": [],
   "source": [
    "criterion = nn.SoftmaxCrossEntropyWithLogits(sparse=True, reduction='mean')\n",
    "optimizer = nn.Adam(model.trainable_params(), learning_rate=0.001)"
   ]
  },
  {
   "cell_type": "code",
   "execution_count": 8,
   "id": "conventional-munich",
   "metadata": {},
   "outputs": [
    {
     "data": {
      "text/plain": [
       "TrainOneStepCell<\n",
       "  (network): WithLossCell<\n",
       "    (_backbone): BiLSTM<\n",
       "      (lstm): LSTM<\n",
       "        (rnn): _DynamicLSTMCPUGPU<>\n",
       "        (reverse): _Reverse<>\n",
       "        (reverse_sequence): _ReverseSequence<>\n",
       "        (dropout_op): Dropout<keep_prob=1.0>\n",
       "        >\n",
       "      (W): Dense<input_channels=10, output_channels=27>\n",
       "      >\n",
       "    (_loss_fn): SoftmaxCrossEntropyWithLogits<>\n",
       "    >\n",
       "  (optimizer): Adam<>\n",
       "  >"
      ]
     },
     "execution_count": 8,
     "metadata": {},
     "output_type": "execute_result"
    }
   ],
   "source": [
    "from mindspore import context\n",
    "context.set_context(mode=context.GRAPH_MODE)\n",
    "\n",
    "net_with_criterion = nn.WithLossCell(model, criterion)\n",
    "train_network = nn.TrainOneStepCell(net_with_criterion, optimizer)\n",
    "train_network.set_train()"
   ]
  },
  {
   "cell_type": "code",
   "execution_count": 9,
   "id": "accredited-manual",
   "metadata": {},
   "outputs": [
    {
     "name": "stderr",
     "output_type": "stream",
     "text": [
      "WARNING: Logging before InitGoogleLogging() is written to STDERR\n",
      "[WARNING] DEBUG(16698,0x10a20d600,python):2022-01-23-19:57:07.838.234 [mindspore/ccsrc/debug/debugger/debugger.cc:95] Debugger] Not enabling debugger. Debugger does not support CPU.\n"
     ]
    },
    {
     "name": "stdout",
     "output_type": "stream",
     "text": [
      "Epoch: 1000 cost =  2.308996\n",
      "Epoch: 2000 cost =  1.820742\n",
      "Epoch: 3000 cost =  1.328527\n",
      "Epoch: 4000 cost =  0.895508\n",
      "Epoch: 5000 cost =  0.599006\n",
      "Epoch: 6000 cost =  0.439613\n",
      "Epoch: 7000 cost =  0.288943\n",
      "Epoch: 8000 cost =  0.233017\n",
      "Epoch: 9000 cost =  0.193696\n",
      "Epoch: 10000 cost =  0.159390\n"
     ]
    }
   ],
   "source": [
    "epoch = 10000\n",
    "for step in range(epoch):\n",
    "    loss = train_network(input_batch, target_batch)\n",
    "    if (step + 1) % 1000 == 0:\n",
    "        print('Epoch:', '%04d' % (step + 1), 'cost = ', '{:.6f}'.format(loss.asnumpy()))"
   ]
  },
  {
   "cell_type": "code",
   "execution_count": 10,
   "id": "revised-description",
   "metadata": {},
   "outputs": [
    {
     "name": "stdout",
     "output_type": "stream",
     "text": [
      "Lorem ipsum dolor sit amet consectetur adipisicing elit sed do eiusmod tempor incididunt ut labore et dolore magna aliqua Ut enim ad minim veniam quis nostrud exercitation\n",
      "['ipsum', 'dolor', 'sit', 'amet', 'consectetur', 'adipisicing', 'elit', 'sed', 'do', 'eiusmod', 'tempor', 'incididunt', 'ut', 'labore', 'labore', 'dolore', 'magna', 'aliqua', 'Ut', 'enim', 'ad', 'minim', 'veniam', 'quis', 'nostrud', 'exercitation']\n"
     ]
    }
   ],
   "source": [
    "train_network.set_train(False)\n",
    "predict = model(input_batch).asnumpy().argmax(axis=1)\n",
    "print(sentence)\n",
    "print([number_dict[n.item()] for n in predict.squeeze()])"
   ]
  }
 ],
 "metadata": {
  "kernelspec": {
   "display_name": "Python 3",
   "language": "python",
   "name": "python3"
  },
  "language_info": {
   "codemirror_mode": {
    "name": "ipython",
    "version": 3
   },
   "file_extension": ".py",
   "mimetype": "text/x-python",
   "name": "python",
   "nbconvert_exporter": "python",
   "pygments_lexer": "ipython3",
   "version": "3.7.5"
  }
 },
 "nbformat": 4,
 "nbformat_minor": 5
}
