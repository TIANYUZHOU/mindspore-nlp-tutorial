{
 "cells": [
  {
   "cell_type": "code",
   "execution_count": 1,
   "id": "dying-communications",
   "metadata": {},
   "outputs": [],
   "source": [
    "import numpy as np\n",
    "import mindspore\n",
    "import mindspore.nn as nn\n",
    "import mindspore.ops as ops\n",
    "from mindspore import Parameter, Tensor"
   ]
  },
  {
   "cell_type": "code",
   "execution_count": 2,
   "id": "suited-southeast",
   "metadata": {},
   "outputs": [],
   "source": [
    "def make_batch(seq_data, word_dict,vocab_size):\n",
    "    input_batch, target_batch = [], []\n",
    "\n",
    "    for seq in seq_data:\n",
    "        input = [word_dict[n] for n in seq[:-1]] # 'm', 'a' , 'k' is input\n",
    "        target = word_dict[seq[-1]] # 'e' is target\n",
    "        input_batch.append(np.eye(vocab_size)[input])\n",
    "        target_batch.append(target)\n",
    "\n",
    "    return input_batch, target_batch"
   ]
  },
  {
   "cell_type": "code",
   "execution_count": 3,
   "id": "saving-print",
   "metadata": {},
   "outputs": [],
   "source": [
    "class TextLSTM(nn.Cell):\n",
    "    def __init__(self, batch_size, vocab_size, hidden_size):\n",
    "        super(TextLSTM,self).__init__()\n",
    "        self.lstm = nn.LSTM(input_size=vocab_size, hidden_size=hidden_size)\n",
    "        self.W = nn.Dense(hidden_size, vocab_size, has_bias=False)\n",
    "        self.b = Parameter(Tensor(np.ones(vocab_size), mindspore.float32), 'b')\n",
    "        \n",
    "        self.n_steps = n_steps\n",
    "        self.hidden_state = Tensor(np.zeros((1, batch_size, hidden_size)).astype(np.float32))  # [num_layers(=1) * num_directions(=1), batch_size, n_hidden]\n",
    "        self.cell_state = Tensor(np.zeros((1, batch_size, hidden_size)).astype(np.float32))\n",
    "\n",
    "    def construct(self, X):\n",
    "        input = X.transpose((1, 0, 2))  \n",
    "        outputs, (_, _) = self.lstm(input, (self.hidden_state, self.cell_state))\n",
    "        outputs = outputs[-1] \n",
    "        model = self.W(outputs) + self.b  \n",
    "        return model"
   ]
  },
  {
   "cell_type": "code",
   "execution_count": 4,
   "id": "changed-facial",
   "metadata": {},
   "outputs": [],
   "source": [
    "n_steps = 3 \n",
    "hidden_size = 128 \n",
    "\n",
    "char_arr = [c for c in 'abcdefghijklmnopqrstuvwxyz']\n",
    "word_dict = {n: i for i, n in enumerate(char_arr)}\n",
    "number_dict = {i: w for i, w in enumerate(char_arr)}\n",
    "vocab_size = len(word_dict)  \n",
    "\n",
    "seq_data = ['make', 'need', 'coal', 'word', 'love', 'hate', 'live', 'home', 'hash', 'star']"
   ]
  },
  {
   "cell_type": "code",
   "execution_count": 5,
   "id": "growing-stroke",
   "metadata": {},
   "outputs": [],
   "source": [
    "input_batch, target_batch = make_batch(seq_data, word_dict, vocab_size)\n",
    "input_batch = Tensor(input_batch, mindspore.float32)\n",
    "target_batch = Tensor(target_batch, mindspore.int32)"
   ]
  },
  {
   "cell_type": "code",
   "execution_count": 6,
   "id": "happy-medline",
   "metadata": {},
   "outputs": [],
   "source": [
    "batch_size = len(input_batch)"
   ]
  },
  {
   "cell_type": "code",
   "execution_count": 7,
   "id": "fancy-detroit",
   "metadata": {},
   "outputs": [],
   "source": [
    "model = TextLSTM(batch_size, vocab_size, hidden_size)"
   ]
  },
  {
   "cell_type": "code",
   "execution_count": 8,
   "id": "electronic-mirror",
   "metadata": {},
   "outputs": [],
   "source": [
    "criterion = nn.SoftmaxCrossEntropyWithLogits(sparse=True,reduction='mean')\n",
    "optimizer = nn.Adam(model.trainable_params(), learning_rate=0.001)"
   ]
  },
  {
   "cell_type": "code",
   "execution_count": 9,
   "id": "suspended-shuttle",
   "metadata": {},
   "outputs": [
    {
     "data": {
      "text/plain": [
       "TrainOneStepCell<\n",
       "  (network): WithLossCell<\n",
       "    (_backbone): TextLSTM<\n",
       "      (lstm): LSTM<\n",
       "        (rnn): _DynamicLSTMCPUGPU<>\n",
       "        (reverse): _Reverse<>\n",
       "        (reverse_sequence): _ReverseSequence<>\n",
       "        (dropout_op): Dropout<keep_prob=1.0>\n",
       "        >\n",
       "      (W): Dense<input_channels=128, output_channels=26>\n",
       "      >\n",
       "    (_loss_fn): SoftmaxCrossEntropyWithLogits<>\n",
       "    >\n",
       "  (optimizer): Adam<>\n",
       "  >"
      ]
     },
     "execution_count": 9,
     "metadata": {},
     "output_type": "execute_result"
    }
   ],
   "source": [
    "from mindspore import context\n",
    "context.set_context(mode=context.GRAPH_MODE)\n",
    "\n",
    "net_with_criterion = nn.WithLossCell(model, criterion)\n",
    "train_network = nn.TrainOneStepCell(net_with_criterion, optimizer)\n",
    "train_network.set_train()"
   ]
  },
  {
   "cell_type": "code",
   "execution_count": 10,
   "id": "sublime-exercise",
   "metadata": {},
   "outputs": [
    {
     "name": "stderr",
     "output_type": "stream",
     "text": [
      "WARNING: Logging before InitGoogleLogging() is written to STDERR\n",
      "[WARNING] DEBUG(16198,0x10681c600,python):2022-01-23-19:55:07.133.408 [mindspore/ccsrc/debug/debugger/debugger.cc:95] Debugger] Not enabling debugger. Debugger does not support CPU.\n"
     ]
    },
    {
     "name": "stdout",
     "output_type": "stream",
     "text": [
      "Epoch: 0100 cost =  1.162239\n",
      "Epoch: 0200 cost =  0.185100\n",
      "Epoch: 0300 cost =  0.034191\n",
      "Epoch: 0400 cost =  0.011772\n",
      "Epoch: 0500 cost =  0.005911\n",
      "Epoch: 0600 cost =  0.003599\n",
      "Epoch: 0700 cost =  0.002443\n",
      "Epoch: 0800 cost =  0.001777\n",
      "Epoch: 0900 cost =  0.001355\n",
      "Epoch: 1000 cost =  0.001069\n"
     ]
    }
   ],
   "source": [
    "# Training\n",
    "epoch = 1000\n",
    "for step in range(epoch):\n",
    "    loss = train_network(input_batch, target_batch)\n",
    "    if (step + 1) % 100 == 0:\n",
    "        print('Epoch:', '%04d' % (step + 1), 'cost = ', '{:.6f}'.format(loss.asnumpy()))"
   ]
  },
  {
   "cell_type": "code",
   "execution_count": 11,
   "id": "seven-tunisia",
   "metadata": {},
   "outputs": [],
   "source": [
    "inputs = [sen[:3] for sen in seq_data]"
   ]
  },
  {
   "cell_type": "code",
   "execution_count": 12,
   "id": "norwegian-mounting",
   "metadata": {},
   "outputs": [
    {
     "name": "stdout",
     "output_type": "stream",
     "text": [
      "['mak', 'nee', 'coa', 'wor', 'lov', 'hat', 'liv', 'hom', 'has', 'sta'] -> ['e', 'd', 'l', 'd', 'e', 'e', 'e', 'e', 'h', 'r']\n"
     ]
    }
   ],
   "source": [
    "predict = model(input_batch).asnumpy().argmax(axis=1)\n",
    "print(inputs, '->', [number_dict[n.item()] for n in predict.squeeze()])"
   ]
  }
 ],
 "metadata": {
  "kernelspec": {
   "display_name": "Python 3",
   "language": "python",
   "name": "python3"
  },
  "language_info": {
   "codemirror_mode": {
    "name": "ipython",
    "version": 3
   },
   "file_extension": ".py",
   "mimetype": "text/x-python",
   "name": "python",
   "nbconvert_exporter": "python",
   "pygments_lexer": "ipython3",
   "version": "3.7.5"
  }
 },
 "nbformat": 4,
 "nbformat_minor": 5
}
