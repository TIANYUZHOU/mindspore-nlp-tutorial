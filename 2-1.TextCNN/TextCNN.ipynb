{
 "cells": [
  {
   "cell_type": "code",
   "execution_count": 1,
   "id": "confidential-attendance",
   "metadata": {},
   "outputs": [],
   "source": [
    "import mindspore\n",
    "import mindspore.nn as nn\n",
    "from mindspore import Parameter, Tensor\n",
    "import numpy as np\n",
    "import mindspore.ops as ops"
   ]
  },
  {
   "cell_type": "code",
   "execution_count": 2,
   "id": "promotional-smart",
   "metadata": {},
   "outputs": [],
   "source": [
    "class TextCNN(nn.Cell):\n",
    "    def __init__(self, embedding_size, sequence_length, num_classes, filter_sizes, num_filters, vocab_size):\n",
    "        super(TextCNN, self).__init__()\n",
    "        self.num_filters_total = num_filters * len(filter_sizes)\n",
    "        self.filter_sizes = filter_sizes\n",
    "        self.sequence_length = sequence_length\n",
    "        self.W = nn.Embedding(vocab_size, embedding_size)\n",
    "        self.Weight = nn.Dense(self.num_filters_total, num_classes, has_bias=False)\n",
    "        self.Bias = Parameter(Tensor(np.ones(num_classes), mindspore.float32), name='bias')\n",
    "        self.filter_list = nn.CellList()\n",
    "        for size in filter_sizes:\n",
    "            seq_cell = nn.SequentialCell([\n",
    "                nn.Conv2d(1, num_filters, (size, embedding_size), pad_mode='valid'),\n",
    "                nn.ReLU(),\n",
    "                nn.MaxPool2d(kernel_size=(sequence_length - size + 1, 1))\n",
    "            ])\n",
    "            self.filter_list.append(seq_cell)\n",
    "        \n",
    "        self.concat = ops.Concat(axis=len(filter_sizes))\n",
    "\n",
    "    def construct(self, X):\n",
    "        embedded_chars = self.W(X)\n",
    "        embedded_chars = embedded_chars.expand_dims(1)\n",
    "        pooled_outputs = []\n",
    "        for conv in self.filter_list:\n",
    "            pooled = conv(embedded_chars)\n",
    "            pooled = pooled.transpose((0, 3, 2, 1))\n",
    "            pooled_outputs.append(pooled)\n",
    "            \n",
    "        h_pool = self.concat((pooled_outputs[0], pooled_outputs[1], pooled_outputs[2]))\n",
    "        h_pool_flat = h_pool.view(-1, self.num_filters_total)\n",
    "        model = self.Weight(h_pool_flat) + self.Bias\n",
    "        return model"
   ]
  },
  {
   "cell_type": "code",
   "execution_count": 3,
   "id": "prime-lindsay",
   "metadata": {},
   "outputs": [],
   "source": [
    "\n",
    "embedding_size = 2\n",
    "sequence_length = 3\n",
    "num_classes = 2\n",
    "filter_sizes = [2, 2, 2]\n",
    "num_filters = 3\n",
    "\n",
    "sentences = [\"i love you\", \"he loves me\", \"she likes baseball\", \" i hate you\", \"sorry for that\", \"this is awful\"]\n",
    "labels = [1, 1, 1, 0, 0, 0]  # 1 is good, 0 is not good.\n",
    "\n",
    "word_list = \" \".join(sentences).split()\n",
    "word_list = list(set(word_list))\n",
    "word_dict = {w: i for i, w in enumerate(word_list)}\n",
    "vocab_size = len(word_dict)\n",
    "\n",
    "model = TextCNN(embedding_size, sequence_length, num_classes, filter_sizes, num_filters, vocab_size)\n"
   ]
  },
  {
   "cell_type": "code",
   "execution_count": 4,
   "id": "gorgeous-weekly",
   "metadata": {},
   "outputs": [],
   "source": [
    "criterion = nn.SoftmaxCrossEntropyWithLogits(sparse=True,reduction='mean')\n",
    "optimizer = nn.Adam(model.trainable_params(), learning_rate=0.001)"
   ]
  },
  {
   "cell_type": "code",
   "execution_count": 5,
   "id": "instructional-scheduling",
   "metadata": {},
   "outputs": [],
   "source": [
    "inputs = Tensor([np.asarray([word_dict[n] for n in sen.split()]) for sen in sentences], mindspore.int32)\n",
    "targets = Tensor([out for out in labels], mindspore.int32) "
   ]
  },
  {
   "cell_type": "code",
   "execution_count": 6,
   "id": "hundred-conclusion",
   "metadata": {},
   "outputs": [
    {
     "data": {
      "text/plain": [
       "TrainOneStepCell<\n",
       "  (network): WithLossCell<\n",
       "    (_backbone): TextCNN<\n",
       "      (W): Embedding<vocab_size=16, embedding_size=2, use_one_hot=False, embedding_table=Parameter (name=W.embedding_table, shape=(16, 2), dtype=Float32, requires_grad=True), dtype=Float32, padding_idx=None>\n",
       "      (Weight): Dense<input_channels=9, output_channels=2>\n",
       "      (filter_list): CellList<\n",
       "        (0): SequentialCell<\n",
       "          (0): Conv2d<input_channels=1, output_channels=3, kernel_size=(2, 2), stride=(1, 1), pad_mode=valid, padding=0, dilation=(1, 1), group=1, has_bias=False, weight_init=normal, bias_init=zeros, format=NCHW>\n",
       "          (1): ReLU<>\n",
       "          (2): MaxPool2d<kernel_size=(2, 1), stride=1, pad_mode=VALID>\n",
       "          >\n",
       "        (1): SequentialCell<\n",
       "          (0): Conv2d<input_channels=1, output_channels=3, kernel_size=(2, 2), stride=(1, 1), pad_mode=valid, padding=0, dilation=(1, 1), group=1, has_bias=False, weight_init=normal, bias_init=zeros, format=NCHW>\n",
       "          (1): ReLU<>\n",
       "          (2): MaxPool2d<kernel_size=(2, 1), stride=1, pad_mode=VALID>\n",
       "          >\n",
       "        (2): SequentialCell<\n",
       "          (0): Conv2d<input_channels=1, output_channels=3, kernel_size=(2, 2), stride=(1, 1), pad_mode=valid, padding=0, dilation=(1, 1), group=1, has_bias=False, weight_init=normal, bias_init=zeros, format=NCHW>\n",
       "          (1): ReLU<>\n",
       "          (2): MaxPool2d<kernel_size=(2, 1), stride=1, pad_mode=VALID>\n",
       "          >\n",
       "        >\n",
       "      >\n",
       "    (_loss_fn): SoftmaxCrossEntropyWithLogits<>\n",
       "    >\n",
       "  (optimizer): Adam<>\n",
       "  >"
      ]
     },
     "execution_count": 6,
     "metadata": {},
     "output_type": "execute_result"
    }
   ],
   "source": [
    "from mindspore import context\n",
    "context.set_context(mode=context.GRAPH_MODE)\n",
    "\n",
    "net_with_criterion = nn.WithLossCell(model, criterion)\n",
    "train_network = nn.TrainOneStepCell(net_with_criterion, optimizer)\n",
    "train_network.set_train()"
   ]
  },
  {
   "cell_type": "code",
   "execution_count": 7,
   "id": "interesting-worthy",
   "metadata": {},
   "outputs": [
    {
     "name": "stderr",
     "output_type": "stream",
     "text": [
      "WARNING: Logging before InitGoogleLogging() is written to STDERR\n",
      "[WARNING] DEBUG(14334,0x1048a4600,python):2022-01-23-19:47:30.708.769 [mindspore/ccsrc/debug/debugger/debugger.cc:95] Debugger] Not enabling debugger. Debugger does not support CPU.\n"
     ]
    },
    {
     "name": "stdout",
     "output_type": "stream",
     "text": [
      "Epoch: 1000 cost = 0.019443\n",
      "Epoch: 2000 cost = 0.007195\n",
      "Epoch: 3000 cost = 0.003496\n",
      "Epoch: 4000 cost = 0.001902\n",
      "Epoch: 5000 cost = 0.001096\n"
     ]
    }
   ],
   "source": [
    "epoch = 5000\n",
    "for step in range(epoch):\n",
    "    loss = train_network(inputs, targets)\n",
    "    \n",
    "    if (step + 1) % 1000 == 0:\n",
    "        print('Epoch:', '%04d' % (step + 1), 'cost =', '{:.6f}'.format(loss.asnumpy()))"
   ]
  },
  {
   "cell_type": "code",
   "execution_count": 8,
   "id": "decent-breakdown",
   "metadata": {},
   "outputs": [
    {
     "name": "stdout",
     "output_type": "stream",
     "text": [
      "sorry hate you is Bad Mean...\n"
     ]
    }
   ],
   "source": [
    "test_text = 'sorry hate you'\n",
    "tests = [np.asarray([word_dict[n] for n in test_text.split()])]\n",
    "test_batch = Tensor(tests, mindspore.int32)\n",
    "\n",
    "# Predict\n",
    "predict = model(test_batch).asnumpy().argmax(1)\n",
    "if predict[0] == 0:\n",
    "    print(test_text,\"is Bad Mean...\")\n",
    "else:\n",
    "    print(test_text,\"is Good Mean!!\")"
   ]
  }
 ],
 "metadata": {
  "kernelspec": {
   "display_name": "Python 3",
   "language": "python",
   "name": "python3"
  },
  "language_info": {
   "codemirror_mode": {
    "name": "ipython",
    "version": 3
   },
   "file_extension": ".py",
   "mimetype": "text/x-python",
   "name": "python",
   "nbconvert_exporter": "python",
   "pygments_lexer": "ipython3",
   "version": "3.7.5"
  }
 },
 "nbformat": 4,
 "nbformat_minor": 5
}
