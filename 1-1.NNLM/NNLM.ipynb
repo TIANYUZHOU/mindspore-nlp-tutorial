{
 "cells": [
  {
   "cell_type": "code",
   "execution_count": 10,
   "id": "celtic-passenger",
   "metadata": {},
   "outputs": [],
   "source": [
    "import numpy as np\n",
    "import mindspore\n",
    "import mindspore.nn as nn\n",
    "from mindspore import Parameter, Tensor"
   ]
  },
  {
   "cell_type": "code",
   "execution_count": 11,
   "id": "lined-travel",
   "metadata": {},
   "outputs": [],
   "source": [
    "def make_batch(sentences, word_dict):\n",
    "    input_batch = []\n",
    "    target_batch = []\n",
    "    \n",
    "    for sent in sentences:\n",
    "        word = sent.split()\n",
    "        inp = [word_dict[n] for n in word[:-1]]\n",
    "        tgt = word_dict[word[-1]]\n",
    "        \n",
    "        input_batch.append(inp)\n",
    "        target_batch.append(tgt)\n",
    "    return input_batch, target_batch"
   ]
  },
  {
   "cell_type": "code",
   "execution_count": 12,
   "id": "opened-guinea",
   "metadata": {},
   "outputs": [],
   "source": [
    "class NNLM(nn.Cell):\n",
    "    def __init__(self, n_steps, vocab_size, embed_size, hidden_size):\n",
    "        super().__init__()\n",
    "        self.C = nn.Embedding(vocab_size, embed_size)\n",
    "        self.H = nn.Dense(n_steps * embed_size, hidden_size, has_bias=False)\n",
    "        self.d = Parameter(Tensor(np.ones(hidden_size), mindspore.float32), name='d')\n",
    "        self.U = nn.Dense(hidden_size, vocab_size, has_bias=False)\n",
    "        self.W = nn.Dense(n_steps * embed_size, vocab_size, has_bias=False)\n",
    "        self.b = Parameter(Tensor(np.ones(vocab_size), mindspore.float32), name='b')\n",
    "        self.n_steps = n_steps\n",
    "        self.embed_size = embed_size\n",
    "        self.tanh = nn.Tanh()\n",
    "\n",
    "    def construct(self, X):\n",
    "        X = self.C(X)\n",
    "        X = X.view(-1, self.n_steps * self.embed_size)\n",
    "        tanh = self.tanh(self.d + self.H(X))\n",
    "        output = self.b + self.W(X) + self.U(tanh)\n",
    "        return output\n",
    "        "
   ]
  },
  {
   "cell_type": "code",
   "execution_count": 13,
   "id": "boolean-outline",
   "metadata": {},
   "outputs": [],
   "source": [
    "n_steps = 2\n",
    "hidden_size = 2\n",
    "embed_size = 2\n",
    "\n",
    "sentences = [\"i like dog\", \"i love coffee\", \"i hate milk\"]\n",
    "\n",
    "word_list = \" \".join(sentences).split()\n",
    "word_list = list(set(word_list))\n",
    "word_dict = {w: i for i, w in enumerate(word_list)}\n",
    "number_dict = {i: w for i, w in enumerate(word_list)}\n",
    "vocab_size = len(word_dict)"
   ]
  },
  {
   "cell_type": "code",
   "execution_count": 14,
   "id": "vocational-adaptation",
   "metadata": {},
   "outputs": [
    {
     "data": {
      "text/plain": [
       "Tensor(shape=[3], dtype=Int64, value= [2, 0, 1])"
      ]
     },
     "execution_count": 14,
     "metadata": {},
     "output_type": "execute_result"
    }
   ],
   "source": [
    "input_batch, target_batch = make_batch(sentences, word_dict)\n",
    "input_batch = Tensor(input_batch, mindspore.int32)\n",
    "target_batch = Tensor(target_batch)\n",
    "target_batch"
   ]
  },
  {
   "cell_type": "code",
   "execution_count": 15,
   "id": "certain-spouse",
   "metadata": {},
   "outputs": [],
   "source": [
    "model = NNLM(n_steps, vocab_size, embed_size, hidden_size)"
   ]
  },
  {
   "cell_type": "code",
   "execution_count": 16,
   "id": "municipal-hypothetical",
   "metadata": {},
   "outputs": [],
   "source": [
    "criterion = nn.SoftmaxCrossEntropyWithLogits(sparse=True,reduction='mean')\n",
    "optimizer = nn.Adam(model.trainable_params(), learning_rate=0.001)"
   ]
  },
  {
   "cell_type": "code",
   "execution_count": 17,
   "id": "efficient-slope",
   "metadata": {},
   "outputs": [
    {
     "name": "stdout",
     "output_type": "stream",
     "text": [
      "Epoch: 1000 cost =  0.494633\n",
      "Epoch: 2000 cost =  0.024229\n",
      "Epoch: 3000 cost =  0.003833\n",
      "Epoch: 4000 cost =  0.001536\n",
      "Epoch: 5000 cost =  0.000746\n"
     ]
    }
   ],
   "source": [
    "from mindspore import context\n",
    "context.set_context(mode=context.GRAPH_MODE)\n",
    "\n",
    "net_with_criterion = nn.WithLossCell(model, criterion)\n",
    "train_network = nn.TrainOneStepCell(net_with_criterion, optimizer)\n",
    "train_network.set_train()\n",
    "epoch = 5000\n",
    "for step in range(epoch):\n",
    "    loss = train_network(input_batch, target_batch)\n",
    "    if (step + 1) % 1000 == 0:\n",
    "        print('Epoch:', '%04d' % (step + 1), 'cost = ', '{:.6f}'.format(loss.asnumpy()))"
   ]
  },
  {
   "cell_type": "code",
   "execution_count": 18,
   "id": "hourly-senegal",
   "metadata": {},
   "outputs": [
    {
     "name": "stdout",
     "output_type": "stream",
     "text": [
      "[2 0 1]\n",
      "[['i', 'like'], ['i', 'love'], ['i', 'hate']] -> ['dog', 'coffee', 'milk']\n"
     ]
    }
   ],
   "source": [
    "train_network.set_train(False)\n",
    "predict = model(input_batch).asnumpy().argmax(axis=1)\n",
    "print(predict)\n",
    "print([sen.split()[:2] for sen in sentences], '->', [number_dict[n.item()] for n in predict])"
   ]
  }
 ],
 "metadata": {
  "kernelspec": {
   "display_name": "Python 3",
   "language": "python",
   "name": "python3"
  },
  "language_info": {
   "codemirror_mode": {
    "name": "ipython",
    "version": 3
   },
   "file_extension": ".py",
   "mimetype": "text/x-python",
   "name": "python",
   "nbconvert_exporter": "python",
   "pygments_lexer": "ipython3",
   "version": "3.7.5"
  }
 },
 "nbformat": 4,
 "nbformat_minor": 5
}
